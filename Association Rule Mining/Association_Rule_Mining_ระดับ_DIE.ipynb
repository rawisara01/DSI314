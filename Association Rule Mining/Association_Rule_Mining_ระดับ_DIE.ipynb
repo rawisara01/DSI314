{
  "cells": [
    {
      "cell_type": "markdown",
      "metadata": {
        "id": "ZHj2hUvosquE"
      },
      "source": [
        "#Association Rule Mining - ชุดข้อมูลระดับความรุนแรง DIE"
      ]
    },
    {
      "cell_type": "code",
      "execution_count": null,
      "metadata": {
        "id": "-qK5mvDJtZab"
      },
      "outputs": [],
      "source": [
        "import numpy as np\n",
        "import pandas as pd\n",
        "from mlxtend.frequent_patterns import apriori, association_rules"
      ]
    },
    {
      "cell_type": "code",
      "execution_count": null,
      "metadata": {
        "id": "FWTxKrtSKAWQ"
      },
      "outputs": [],
      "source": [
        "url = 'https://raw.githubusercontent.com/rawisara01/DSI314/main/Association%20Rule%20Mining/level_acc_DIE.csv'\n",
        "df_DIE = pd.read_csv(url)"
      ]
    },
    {
      "cell_type": "code",
      "execution_count": null,
      "metadata": {
        "id": "XXhLbNvItXhQ"
      },
      "outputs": [],
      "source": [
        "# ลบคอลัมน์ที่ไม่ได้ใช้\n",
        "df_DIE.drop(columns=['Unnamed: 0', 'years_acc'], inplace=True, axis=1)"
      ]
    },
    {
      "cell_type": "code",
      "execution_count": null,
      "metadata": {
        "id": "pq28aDaNsEc9"
      },
      "outputs": [],
      "source": [
        "df_DIE['products_DIE'] = df_DIE[df_DIE.columns[0:]].apply(\n",
        "    lambda x: ','.join(x.dropna().astype(str)),\n",
        "    axis=1\n",
        ")"
      ]
    },
    {
      "cell_type": "code",
      "execution_count": null,
      "metadata": {
        "id": "O0WxjM2HsEac"
      },
      "outputs": [],
      "source": [
        "df_DIE.drop(['type_acc', 'climate_acc', 'month_acc', 'scene_acc', 'road_surface', 'time_acc'], axis=1, inplace=True)"
      ]
    },
    {
      "cell_type": "code",
      "execution_count": null,
      "metadata": {
        "id": "skx0rYB3sEYC"
      },
      "outputs": [],
      "source": [
        "data = list(df_DIE[\"products_DIE\"].apply(lambda x:x.split(\" , \") ))"
      ]
    },
    {
      "cell_type": "code",
      "execution_count": null,
      "metadata": {
        "colab": {
          "base_uri": "https://localhost:8080/"
        },
        "id": "UJpuobTmsEVj",
        "outputId": "90469526-9c8e-4e62-dcc8-131d5588d936"
      },
      "outputs": [],
      "source": [
        "data = list(df_DIE[\"products_DIE\"].apply(lambda x:x.split(\",\") ))\n",
        "data"
      ]
    },
    {
      "cell_type": "code",
      "execution_count": null,
      "metadata": {
        "colab": {
          "base_uri": "https://localhost:8080/",
          "height": 537
        },
        "id": "_lGt88fQsM_l",
        "outputId": "6b4c36fd-2c9c-419e-d56b-cfbfdd485cb3"
      },
      "outputs": [],
      "source": [
        "#Let's transform the list, with one-hot encoding\n",
        "from mlxtend.preprocessing import TransactionEncoder\n",
        "\n",
        "a = TransactionEncoder()\n",
        "a_data = a.fit(data).transform(data)\n",
        "df_DIE1 = pd.DataFrame(a_data,columns=a.columns_)\n",
        "df_DIE1 = df_DIE1.replace(False,0)\n",
        "df_DIE1"
      ]
    },
    {
      "cell_type": "code",
      "execution_count": null,
      "metadata": {
        "colab": {
          "base_uri": "https://localhost:8080/",
          "height": 1000
        },
        "id": "ERqxOVsxsM77",
        "outputId": "a85e2c6b-b06a-4fa5-cc30-1453878f8a5c"
      },
      "outputs": [],
      "source": [
        "df_DIE1 = apriori(df_DIE1, min_support = 0.2, use_colnames = True,)\n",
        "df_DIE1"
      ]
    },
    {
      "cell_type": "code",
      "execution_count": null,
      "metadata": {
        "colab": {
          "base_uri": "https://localhost:8080/",
          "height": 423
        },
        "id": "PJ57zwFVsM5Y",
        "outputId": "f9177ed2-bfcc-4756-97a2-72273ecdbf11"
      },
      "outputs": [],
      "source": [
        "#Let's view our interpretation values using the Associan rule function.\n",
        "df_DIE1_ar = association_rules(df_DIE1, metric = \"confidence\", min_threshold = 0.6)\n",
        "df_DIE1_ar"
      ]
    },
    {
      "cell_type": "code",
      "execution_count": null,
      "metadata": {
        "id": "pqK2nsS9sRQd"
      },
      "outputs": [],
      "source": [
        "df_DIE2_ar = df_DIE1_ar.query(\" lift >= 1 \")"
      ]
    },
    {
      "cell_type": "code",
      "execution_count": null,
      "metadata": {
        "colab": {
          "base_uri": "https://localhost:8080/",
          "height": 770
        },
        "id": "MU1puytvsVV1",
        "outputId": "e76d5e01-05b4-4063-e578-a56f774fa008"
      },
      "outputs": [],
      "source": [
        "df_DIE2_ar"
      ]
    }
  ],
  "metadata": {
    "colab": {
      "provenance": []
    },
    "kernelspec": {
      "display_name": "Python 3",
      "name": "python3"
    },
    "language_info": {
      "name": "python"
    }
  },
  "nbformat": 4,
  "nbformat_minor": 0
}
