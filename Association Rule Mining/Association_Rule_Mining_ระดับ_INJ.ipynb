{
  "cells": [
    {
      "cell_type": "markdown",
      "metadata": {
        "id": "ZHj2hUvosquE"
      },
      "source": [
        "#Association Rule Mining - ชุดข้อมูลระดับความรุนแรง INJ"
      ]
    },
    {
      "cell_type": "code",
      "execution_count": null,
      "metadata": {
        "id": "-qK5mvDJtZab"
      },
      "outputs": [],
      "source": [
        "import numpy as np\n",
        "import pandas as pd\n",
        "from mlxtend.frequent_patterns import apriori, association_rules"
      ]
    },
    {
      "cell_type": "code",
      "execution_count": null,
      "metadata": {
        "id": "lE2e8jyF6hu4"
      },
      "outputs": [],
      "source": [
        "url = 'https://raw.githubusercontent.com/rawisara01/DSI314/main/Association%20Rule%20Mining/level_acc_INJ.csv'\n",
        "df_INJ =pd.read_csv(url)"
      ]
    },
    {
      "cell_type": "code",
      "execution_count": null,
      "metadata": {
        "id": "XXhLbNvItXhQ"
      },
      "outputs": [],
      "source": [
        "# ลบคอลัมน์ที่ไม่ได้ใช้\n",
        "df_INJ.drop(columns=['Unnamed: 0', 'years_acc'], inplace=True, axis=1)"
      ]
    },
    {
      "cell_type": "code",
      "execution_count": null,
      "metadata": {
        "id": "0vhxmi6rvpOC"
      },
      "outputs": [],
      "source": [
        "df_INJ['products_INJ'] = df_INJ[df_INJ.columns[0:]].apply(\n",
        "    lambda x: ','.join(x.dropna().astype(str)),\n",
        "    axis=1\n",
        ")"
      ]
    },
    {
      "cell_type": "code",
      "execution_count": null,
      "metadata": {
        "id": "ve1a2Z_qrjEt"
      },
      "outputs": [],
      "source": [
        "df_INJ.drop(['route_acc', 'day_acc', 'type_acc', 'climate_acc', 'month_acc', 'scene_acc', 'road_surface', 'time_acc'], axis=1, inplace=True)"
      ]
    },
    {
      "cell_type": "code",
      "execution_count": null,
      "metadata": {
        "colab": {
          "base_uri": "https://localhost:8080/",
          "height": 423
        },
        "id": "BwW1KR-Mu6mj",
        "outputId": "78ad7a3d-4d11-498a-8c66-dda934baf5d3"
      },
      "outputs": [],
      "source": [
        "df_INJ"
      ]
    },
    {
      "cell_type": "code",
      "execution_count": null,
      "metadata": {
        "id": "RBLr0hemrlER"
      },
      "outputs": [],
      "source": [
        "data= list(df_INJ[\"products_INJ\"].apply(lambda x:x.split(\" , \") ))"
      ]
    },
    {
      "cell_type": "code",
      "execution_count": null,
      "metadata": {
        "colab": {
          "base_uri": "https://localhost:8080/"
        },
        "id": "cHu4ep42rlBI",
        "outputId": "18bb3a28-7797-47d7-8048-bd16491d2592"
      },
      "outputs": [],
      "source": [
        "data = list(df_INJ[\"products_INJ\"].apply(lambda x:x.split(\",\") ))\n",
        "data"
      ]
    },
    {
      "cell_type": "code",
      "execution_count": null,
      "metadata": {
        "colab": {
          "base_uri": "https://localhost:8080/",
          "height": 537
        },
        "id": "-ILH6rNork-3",
        "outputId": "44c9f73c-7808-4950-e0e9-a8ab917535c9"
      },
      "outputs": [],
      "source": [
        "#Let's transform the list, with one-hot encoding\n",
        "from mlxtend.preprocessing import TransactionEncoder\n",
        "\n",
        "a = TransactionEncoder()\n",
        "a_data = a.fit(data).transform(data)\n",
        "df_INJ1 = pd.DataFrame(a_data,columns=a.columns_)\n",
        "df_INJ1 = df_INJ1.replace(False,0)\n",
        "df_INJ1"
      ]
    },
    {
      "cell_type": "code",
      "execution_count": null,
      "metadata": {
        "colab": {
          "base_uri": "https://localhost:8080/",
          "height": 1000
        },
        "id": "-TDTlMOork8j",
        "outputId": "a92ba20d-e77c-4aa2-d85f-dff857f59592"
      },
      "outputs": [],
      "source": [
        "df_INJ1 = apriori(df_INJ1, min_support = 0.2, use_colnames = True,)\n",
        "df_INJ1"
      ]
    },
    {
      "cell_type": "code",
      "execution_count": null,
      "metadata": {
        "colab": {
          "base_uri": "https://localhost:8080/",
          "height": 467
        },
        "id": "Q5cxNwBWrk6Q",
        "outputId": "0aed1934-b6d9-46de-8f70-1ff6903e991b"
      },
      "outputs": [],
      "source": [
        "#Let's view our interpretation values using the Associan rule function.\n",
        "df_INJ1_ar = association_rules(df_INJ1, metric = \"confidence\", min_threshold = 0.6)\n",
        "df_INJ1_ar"
      ]
    },
    {
      "cell_type": "code",
      "execution_count": null,
      "metadata": {
        "id": "Aop1tIUeruSJ"
      },
      "outputs": [],
      "source": [
        "df_INJ2_ar = df_INJ1_ar.query(\" lift >= 1.03 \")"
      ]
    },
    {
      "cell_type": "code",
      "execution_count": null,
      "metadata": {
        "colab": {
          "base_uri": "https://localhost:8080/",
          "height": 1000
        },
        "id": "sZPlmfDirw0m",
        "outputId": "6c3a423d-ed63-4715-d267-0aab3601d006"
      },
      "outputs": [],
      "source": [
        "df_INJ2_ar"
      ]
    },
    {
      "cell_type": "code",
      "execution_count": null,
      "metadata": {
        "id": "bjGw7p6vzYh9"
      },
      "outputs": [],
      "source": []
    }
  ],
  "metadata": {
    "colab": {
      "provenance": []
    },
    "kernelspec": {
      "display_name": "Python 3",
      "name": "python3"
    },
    "language_info": {
      "name": "python"
    }
  },
  "nbformat": 4,
  "nbformat_minor": 0
}
