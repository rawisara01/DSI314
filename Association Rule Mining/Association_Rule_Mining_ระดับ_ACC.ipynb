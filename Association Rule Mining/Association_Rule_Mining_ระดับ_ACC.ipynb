{
  "cells": [
    {
      "cell_type": "markdown",
      "metadata": {
        "id": "ZHj2hUvosquE"
      },
      "source": [
        "#Association Rule Mining - ชุดข้อมูลระดับความรุนแรง ACC"
      ]
    },
    {
      "cell_type": "code",
      "execution_count": null,
      "metadata": {
        "id": "-qK5mvDJtZab"
      },
      "outputs": [],
      "source": [
        "import numpy as np\n",
        "import pandas as pd"
      ]
    },
    {
      "cell_type": "code",
      "execution_count": null,
      "metadata": {
        "id": "FWTxKrtSKAWQ"
      },
      "outputs": [],
      "source": [
        "# Get data\n",
        "url = 'https://raw.githubusercontent.com/rawisara01/DSI314/main/Association%20Rule%20Mining/level_acc_ACC.csv'\n",
        "df_ACC =pd.read_csv(url)"
      ]
    },
    {
      "cell_type": "code",
      "execution_count": null,
      "metadata": {
        "id": "XXhLbNvItXhQ"
      },
      "outputs": [],
      "source": [
        "# ลบคอลัมน์ที่ไม่ได้ใช้\n",
        "df_ACC.drop(columns=['Unnamed: 0', 'years_acc'], inplace=True, axis=1)"
      ]
    },
    {
      "cell_type": "code",
      "execution_count": null,
      "metadata": {
        "id": "9h-rrC07ujki"
      },
      "outputs": [],
      "source": [
        "df_ACC['products_ACC'] = df_ACC[df_ACC.columns[0:]].apply(\n",
        "    lambda x: ','.join(x.dropna().astype(str)),\n",
        "    axis=1\n",
        ")"
      ]
    },
    {
      "cell_type": "code",
      "execution_count": null,
      "metadata": {
        "colab": {
          "base_uri": "https://localhost:8080/",
          "height": 641
        },
        "id": "D0dY5qh2vLM9",
        "outputId": "6ef3b525-08e4-4d23-be37-842ee7f6fb22"
      },
      "outputs": [],
      "source": [
        "df_ACC"
      ]
    },
    {
      "cell_type": "code",
      "execution_count": null,
      "metadata": {
        "colab": {
          "base_uri": "https://localhost:8080/",
          "height": 423
        },
        "id": "b271tEx7uuWq",
        "outputId": "cb10b07e-3471-47c2-9446-e0530b242456"
      },
      "outputs": [],
      "source": [
        "df_ACC.drop(['route_acc', 'day_acc', 'type_acc', 'climate_acc', 'month_acc', 'scene_acc', 'road_surface', 'time_acc'], axis=1, inplace=True)\n",
        "df_ACC"
      ]
    },
    {
      "cell_type": "code",
      "execution_count": null,
      "metadata": {
        "id": "NjCQ5sgYu1rT"
      },
      "outputs": [],
      "source": [
        "data = list(df_ACC[\"products_ACC\"].apply(lambda x:x.split(\" , \") ))"
      ]
    },
    {
      "cell_type": "code",
      "execution_count": null,
      "metadata": {
        "colab": {
          "base_uri": "https://localhost:8080/"
        },
        "id": "MfNl3ZZIu4Wb",
        "outputId": "59bbf14a-7467-46b5-bf95-364de008553c"
      },
      "outputs": [],
      "source": [
        "data = list(df_ACC[\"products_ACC\"].apply(lambda x:x.split(\",\") ))\n",
        "data"
      ]
    },
    {
      "cell_type": "code",
      "execution_count": null,
      "metadata": {
        "colab": {
          "base_uri": "https://localhost:8080/",
          "height": 537
        },
        "id": "f-4Irrm0u6QV",
        "outputId": "4493c597-f35e-49c8-a07e-416d63ae5fa6"
      },
      "outputs": [],
      "source": [
        "#Let's transform the list, with one-hot encoding\n",
        "from mlxtend.preprocessing import TransactionEncoder\n",
        "\n",
        "a = TransactionEncoder()\n",
        "a_data = a.fit(data).transform(data)\n",
        "df_ACC1 = pd.DataFrame(a_data,columns=a.columns_)\n",
        "df_ACC1 = df_ACC1.replace(False,0)\n",
        "df_ACC1"
      ]
    },
    {
      "cell_type": "code",
      "execution_count": null,
      "metadata": {
        "id": "w4nNCslfvTyf"
      },
      "outputs": [],
      "source": [
        "import pandas as pd\n",
        "import numpy as np\n",
        "from mlxtend.frequent_patterns import apriori, association_rules"
      ]
    },
    {
      "cell_type": "code",
      "execution_count": null,
      "metadata": {
        "colab": {
          "base_uri": "https://localhost:8080/",
          "height": 1000
        },
        "id": "XwKNxzhiu8A7",
        "outputId": "c1dc2dc8-3d82-4bff-e9ce-6d0e8c0e2e6a"
      },
      "outputs": [],
      "source": [
        "df_ACC1 = apriori(df_ACC1, min_support = 0.2, use_colnames = True,)\n",
        "df_ACC1"
      ]
    },
    {
      "cell_type": "code",
      "execution_count": null,
      "metadata": {
        "colab": {
          "base_uri": "https://localhost:8080/",
          "height": 467
        },
        "id": "fXlZjNanu94j",
        "outputId": "f99ccad0-c00f-4469-ba59-e7fe7d7a0b11"
      },
      "outputs": [],
      "source": [
        "#Let's view our interpretation values using the Associan rule function.\n",
        "df_ACC1_ar = association_rules(df_ACC1, metric = \"confidence\", min_threshold = 0.6)\n",
        "df_ACC1_ar"
      ]
    },
    {
      "cell_type": "code",
      "execution_count": null,
      "metadata": {
        "id": "EdembHxeu_2V"
      },
      "outputs": [],
      "source": [
        "df_ACC2_ar = df_ACC1_ar.query(\" lift >= 1.03 \")"
      ]
    },
    {
      "cell_type": "code",
      "execution_count": null,
      "metadata": {
        "colab": {
          "base_uri": "https://localhost:8080/",
          "height": 1000
        },
        "id": "Y4G8CWGCvBMr",
        "outputId": "529b9d99-3743-4386-a5f0-ffc9eb4e0cc2"
      },
      "outputs": [],
      "source": [
        "df_ACC2_ar"
      ]
    }
  ],
  "metadata": {
    "colab": {
      "provenance": []
    },
    "kernelspec": {
      "display_name": "Python 3",
      "name": "python3"
    },
    "language_info": {
      "name": "python"
    }
  },
  "nbformat": 4,
  "nbformat_minor": 0
}
