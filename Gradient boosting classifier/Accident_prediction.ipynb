{
  "cells": [
    {
      "cell_type": "code",
      "execution_count": null,
      "metadata": {
        "id": "uBkoyLq0KJRJ"
      },
      "outputs": [],
      "source": [
        "# impot library\n",
        "import numpy as np\n",
        "import pandas as pd\n",
        "import seaborn as sns\n",
        "import matplotlib.pyplot as plt"
      ]
    },
    {
      "cell_type": "code",
      "execution_count": null,
      "metadata": {
        "id": "Z-KdBhm_J54T"
      },
      "outputs": [],
      "source": [
        "# Get Data\n",
        "url = 'https://raw.githubusercontent.com/rawisara01/DSI314/main/Gradient%20boosting%20classifier/combined_files.csv'\n",
        "df =pd.read_csv(url)"
      ]
    },
    {
      "cell_type": "code",
      "execution_count": null,
      "metadata": {
        "colab": {
          "base_uri": "https://localhost:8080/",
          "height": 589
        },
        "id": "ND3WbCm_Juup",
        "outputId": "82952037-3739-4a38-ebd0-a86f4ec6865f"
      },
      "outputs": [],
      "source": [
        "df"
      ]
    },
    {
      "cell_type": "code",
      "execution_count": null,
      "metadata": {
        "id": "gKFbekPPKKXT"
      },
      "outputs": [],
      "source": [
        "# ลบคอลัมน์ที่ไม่ได้ใช้งาน\n",
        "df.drop(['Unnamed: 0', 'ปีที่เกิดเหตุ', 'ลักษณะการเกิดอุบัติเหตุ', 'จำนวนรถที่เกิดเหตุ (รวมคันที่ 1)', 'จังหวัด'], inplace=True, axis=1)"
      ]
    },
    {
      "cell_type": "code",
      "execution_count": null,
      "metadata": {
        "id": "T5t87y9VKYer"
      },
      "outputs": [],
      "source": [
        "#เปลี่ยนชื่อคอลัมน์\n",
        "df.rename(columns = {'วันที่เกิดเหตุ':'date_acc', \n",
        "                     'เวลา':'time_acc', \n",
        "                     'สายทาง':'route_acc', \n",
        "                     'ประเภทรถ':'type_acc', \n",
        "                     'บริเวณที่เกิดเหตุ/ลักษณะทาง':'scene/road surface', \n",
        "                     'จำนวนผู้เสียชีวิต':'num_death', \n",
        "                     'รวมจำนวนผู้บาดเจ็บ':'num_injured', \n",
        "                     'สภาพอากาศ':'climate_acc'}, inplace = True)"
      ]
    },
    {
      "cell_type": "code",
      "execution_count": null,
      "metadata": {
        "colab": {
          "base_uri": "https://localhost:8080/"
        },
        "id": "FjEb2MZHKbli",
        "outputId": "612bc8b1-3696-4861-f101-34f967feca1a"
      },
      "outputs": [],
      "source": [
        "df.info()"
      ]
    },
    {
      "cell_type": "markdown",
      "metadata": {
        "id": "Uy0Z89kOM-BU"
      },
      "source": [
        "#Data Preprocessing"
      ]
    },
    {
      "cell_type": "code",
      "execution_count": null,
      "metadata": {
        "colab": {
          "base_uri": "https://localhost:8080/",
          "height": 424
        },
        "id": "4bKUhuGdMLvg",
        "outputId": "3896feef-4505-48b7-b0f3-dc3790d2d00b"
      },
      "outputs": [],
      "source": [
        "# แยก date_acc และสร้างคอลัมน์ date_acc, 'month_acc', 'years_acc'\n",
        "df[['day_acc', 'month_acc', 'years_acc']] = df['date_acc'].str.split('/', expand=True)\n",
        "df = df.drop(columns=[\"date_acc\"])\n",
        "\n",
        "# แยก time_acc และสร้างคอลัมน์ hours_acc, minutes_acc \n",
        "df[['hours_acc', 'minutes_acc']] = df['time_acc'].str.split(':', expand=True)\n",
        "df = df.drop(columns=[\"time_acc\"])\n",
        "\n",
        "# แยก scene/road surface และสร้างคอลัมน์ 'scene_acc', 'road_surface'\n",
        "df[['scene_acc', 'road_surface']] = df['scene/road surface'].str.split('+', expand=True)\n",
        "df = df.drop(columns=[\"scene/road surface\"])\n",
        "df"
      ]
    },
    {
      "cell_type": "code",
      "execution_count": null,
      "metadata": {
        "colab": {
          "base_uri": "https://localhost:8080/"
        },
        "id": "mqWPlFkgL5BC",
        "outputId": "896b6e86-4057-4e84-afbc-ade1ec6cb561"
      },
      "outputs": [],
      "source": [
        "df.info()"
      ]
    },
    {
      "cell_type": "code",
      "execution_count": null,
      "metadata": {
        "id": "4bCBcRaEMLi-"
      },
      "outputs": [],
      "source": [
        "# แปลงข้อมูลให้เป็น int ตามความเหมาะสม\n",
        "df[['hours_acc', 'minutes_acc']] = df[['hours_acc', 'minutes_acc']].astype(str).astype(int)"
      ]
    },
    {
      "cell_type": "code",
      "execution_count": null,
      "metadata": {
        "id": "k6t4ayQzNJlF"
      },
      "outputs": [],
      "source": [
        "# สร้างเงื่อนไขสำหรับช่วงเวลา\n",
        "conditions_time = [\n",
        "    (df['hours_acc'] >= 0) & (df['hours_acc'] <= 4),\n",
        "    (df['hours_acc'] >= 5) & (df['hours_acc'] <= 9),\n",
        "    (df['hours_acc'] >= 10) & (df['hours_acc'] <= 14),\n",
        "    (df['hours_acc'] >= 15) & (df['hours_acc'] <= 19),\n",
        "    (df['hours_acc'] >= 20) & (df['hours_acc'] <= 24)\n",
        "    ]\n",
        "\n",
        "# แบ่งช่วงเวลา\n",
        "values_time = ['0', '1', '2', '3', '4']\n",
        "\n",
        "# สร้างคอลัมน์ time\n",
        "df['time_acc'] = np.select(conditions_time, values_time)"
      ]
    },
    {
      "cell_type": "code",
      "execution_count": null,
      "metadata": {
        "id": "2GmveisXNLak"
      },
      "outputs": [],
      "source": [
        "# สร้างเงื่อนไขสำหรับระดับความรุนแรง\n",
        "conditions_acc = [\n",
        "    (df['num_injured'] <= 0) & (df['num_death'] <= 0),\n",
        "    (df['num_injured'] > 0) & (df['num_death'] <= 0),\n",
        "    (df['num_injured'] >= 0) & (df['num_death'] > 0),\n",
        "    ]\n",
        "\n",
        "# แบ่งระดับความรุนแรง\n",
        "values_acc = [ 'ACC', 'INJ', 'DIE' ]\n",
        "\n",
        "# สร้างคอลลัมน์ Level_acc\n",
        "df['level_acc'] = np.select(conditions_acc, values_acc)\n",
        "\n",
        "df = df.drop(columns=[\"num_injured\"])\n",
        "df = df.drop(columns=[\"num_death\"])"
      ]
    },
    {
      "cell_type": "code",
      "execution_count": null,
      "metadata": {
        "colab": {
          "base_uri": "https://localhost:8080/"
        },
        "id": "F-qQnMbpOe6F",
        "outputId": "d1220c36-74b4-46e0-ae26-4768af37a146"
      },
      "outputs": [],
      "source": [
        "df.dtypes"
      ]
    },
    {
      "cell_type": "markdown",
      "metadata": {
        "id": "RN-rFpZtRxnj"
      },
      "source": [
        "--------------------------------------------------------------------"
      ]
    },
    {
      "cell_type": "markdown",
      "metadata": {
        "id": "mc30UbgkRz4P"
      },
      "source": [
        "#Exploratory Data Analysis (EDA)"
      ]
    },
    {
      "cell_type": "code",
      "execution_count": null,
      "metadata": {
        "id": "bwvcOdA4SfL1"
      },
      "outputs": [],
      "source": [
        "# copy df to df_EDA\n",
        "df_EDA = df.copy()\n",
        "\n",
        "# ลบคอลัมน์ที่ไม่ใช้งาน\n",
        "df_EDA.drop('route_acc', inplace=True, axis=1)"
      ]
    },
    {
      "cell_type": "code",
      "execution_count": null,
      "metadata": {
        "id": "UZHjGdShaMIi"
      },
      "outputs": [],
      "source": [
        "# โหลด font ภาษาไทยสำหรับการ plot กราฟ\n",
        "!wget -q https://github.com/Phonbopit/sarabun-webfont/raw/master/fonts/thsarabunnew-webfont.ttf\n",
        " \n",
        "import matplotlib as mpl\n",
        "mpl.font_manager.fontManager.addfont('thsarabunnew-webfont.ttf')\n",
        "mpl.rc('font', family='TH Sarabun New')"
      ]
    },
    {
      "cell_type": "code",
      "execution_count": null,
      "metadata": {
        "id": "PBQOvZ2mUJUg"
      },
      "outputs": [],
      "source": [
        "# สร้างฟังก์ชันสำหรับกราฟแท่ง\n",
        "def val_count_BarPlot(data=None, count_cols=None):\n",
        "      data_count = data[count_cols].value_counts()\n",
        "      fig, ax = plt.subplots(figsize=(8, 6))\n",
        "      pbar = ax.bar(data_count.index.astype(str), data_count.values)\n",
        "      # ax.bar_label(pbar, [num for num in data_count.values])\n",
        "      ax.set_title(f\"{count_cols} values count\")\n",
        "      plt.show"
      ]
    },
    {
      "cell_type": "code",
      "execution_count": null,
      "metadata": {
        "colab": {
          "base_uri": "https://localhost:8080/",
          "height": 389
        },
        "id": "nPLNMlMoUbSZ",
        "outputId": "0121ffa0-bb21-4184-a6ac-4c031a0fc67e"
      },
      "outputs": [],
      "source": [
        "# กราฟแท่งของระดับความรุนแรง\n",
        "val_count_BarPlot(data=df_EDA, count_cols='level_acc')"
      ]
    },
    {
      "cell_type": "code",
      "execution_count": null,
      "metadata": {
        "colab": {
          "base_uri": "https://localhost:8080/"
        },
        "id": "iMz2IBSLjcZE",
        "outputId": "287a0942-d4e7-4926-e372-c410943151ff"
      },
      "outputs": [],
      "source": [
        "# จำนวนของระดับความรุนแรง\n",
        "df_EDA.level_acc.value_counts()"
      ]
    },
    {
      "cell_type": "code",
      "execution_count": null,
      "metadata": {
        "colab": {
          "base_uri": "https://localhost:8080/",
          "height": 794
        },
        "id": "E40lrK52-4KH",
        "outputId": "e8aa97fa-d995-4a78-84bc-6326e57989ae"
      },
      "outputs": [],
      "source": [
        "#กราฟแท่งของคอลัมน์ climate\n",
        "val_count_BarPlot(data=df_EDA, count_cols='climate_acc')\n",
        "\n",
        "# climate เทียบกับ level_acc\n",
        "for val in list(df['climate_acc'].unique()):\n",
        "  print(f\"{val} level_acc\")\n",
        "  print(df.loc[df['climate_acc']==val]['level_acc'].value_counts(),\"\\n\")"
      ]
    },
    {
      "cell_type": "code",
      "execution_count": null,
      "metadata": {
        "colab": {
          "base_uri": "https://localhost:8080/",
          "height": 1000
        },
        "id": "OgrNi3e2kMww",
        "outputId": "dae502df-177e-460f-ccb6-ae7f1ef5ca7c"
      },
      "outputs": [],
      "source": [
        "#กราฟแท่งของคอลัมน์ day_acc\n",
        "val_count_BarPlot(data=df_EDA, count_cols='day_acc')\n",
        "\n",
        "# day_acc เทียบกับ level_acc\n",
        "for val in list(df['day_acc'].unique()):\n",
        "  print(f\"{val} level_acc\")\n",
        "  print(df.loc[df['day_acc']==val]['level_acc'].value_counts(),\"\\n\")"
      ]
    },
    {
      "cell_type": "code",
      "execution_count": null,
      "metadata": {
        "colab": {
          "base_uri": "https://localhost:8080/",
          "height": 1000
        },
        "id": "pCxCDRvHkonp",
        "outputId": "62a84871-32be-4020-dae3-df4a583db5d1"
      },
      "outputs": [],
      "source": [
        "#กราฟแท่งของคอลัมน์ month_acc\n",
        "val_count_BarPlot(data=df_EDA, count_cols='month_acc')\n",
        "\n",
        "# month_acc เทียบกับ level_acc\n",
        "for val in list(df['month_acc'].unique()):\n",
        "  print(f\"{val} level_acc\")\n",
        "  print(df.loc[df['month_acc']==val]['level_acc'].value_counts(),\"\\n\")"
      ]
    },
    {
      "cell_type": "code",
      "execution_count": null,
      "metadata": {
        "colab": {
          "base_uri": "https://localhost:8080/",
          "height": 805
        },
        "id": "ObxJh8tKIb-F",
        "outputId": "36157e6b-47fe-42fa-f783-6d3094c292af"
      },
      "outputs": [],
      "source": [
        "#กราฟแท่งของคอลัมน์ years_acc\n",
        "val_count_BarPlot(data=df_EDA, count_cols='years_acc')\n",
        "\n",
        "# years_acc เทียบกับ level_acc\n",
        "for val in list(df['years_acc'].unique()):\n",
        "  print(f\"{val} level_acc\")\n",
        "  print(df.loc[df['years_acc']==val]['level_acc'].value_counts(),\"\\n\")"
      ]
    },
    {
      "cell_type": "code",
      "execution_count": null,
      "metadata": {
        "colab": {
          "base_uri": "https://localhost:8080/",
          "height": 496
        },
        "id": "l-RXzWmoKvLd",
        "outputId": "43d8b86f-5c51-4b24-8bd6-e491a210af07"
      },
      "outputs": [],
      "source": [
        "#กราฟแท่งของคอลัมน์ type_acc\n",
        "type_acc = df_EDA['type_acc'].value_counts().head(10).index\n",
        "plt.figure(figsize=(15, 8))\n",
        "sns.countplot(data=df_EDA, y='type_acc', order=type_acc)\n",
        "plt.xlabel('จำนวนรถ (คัน)')\n",
        "plt.ylabel('ประเภทรถ');"
      ]
    },
    {
      "cell_type": "code",
      "execution_count": null,
      "metadata": {
        "colab": {
          "base_uri": "https://localhost:8080/"
        },
        "id": "0k1pDWOAL-ze",
        "outputId": "dedcf6fb-5980-4b86-d7e0-6ea6cc1b7fad"
      },
      "outputs": [],
      "source": [
        "# type_acc เทียบกับ level_acc\n",
        "for val in list(df['type_acc'].unique()):\n",
        "  print(f\"{val} level_acc\")\n",
        "  print(df.loc[df['type_acc']==val]['level_acc'].value_counts(),\"\\n\")"
      ]
    },
    {
      "cell_type": "code",
      "execution_count": null,
      "metadata": {
        "colab": {
          "base_uri": "https://localhost:8080/",
          "height": 496
        },
        "id": "3K0M1UKeMO8u",
        "outputId": "70a7f920-9c4c-4f0b-d4b1-51b9674e7bb1"
      },
      "outputs": [],
      "source": [
        "#กราฟแท่งของคอลัมน์ scene_acc\n",
        "scene_acc = df_EDA['scene_acc'].value_counts().head(10).index\n",
        "plt.figure(figsize=(15, 8))\n",
        "sns.countplot(data=df_EDA, y='scene_acc', order=scene_acc)\n",
        "plt.xlabel('จำนวนลักษณะทาง (จำนวน)')\n",
        "plt.ylabel('ลักษณะทาง');"
      ]
    },
    {
      "cell_type": "code",
      "execution_count": null,
      "metadata": {
        "colab": {
          "base_uri": "https://localhost:8080/"
        },
        "id": "nTtHq0vCmIU2",
        "outputId": "ca784993-857c-44f6-a8fb-cb11f42ee693"
      },
      "outputs": [],
      "source": [
        "# scene_acc เทียบกับ level_acc\n",
        "for val in list(df['scene_acc'].unique()):\n",
        "  print(f\"{val} level_acc\")\n",
        "  print(df.loc[df['scene_acc']==val]['level_acc'].value_counts(),\"\\n\")"
      ]
    },
    {
      "cell_type": "code",
      "execution_count": null,
      "metadata": {
        "colab": {
          "base_uri": "https://localhost:8080/",
          "height": 393
        },
        "id": "PI_T4t2GM8WV",
        "outputId": "6e8ab6fb-2059-4c71-fbba-78162c2155e4"
      },
      "outputs": [],
      "source": [
        "#กราฟแท่งของคอลัมน์ road_surface\n",
        "val_count_BarPlot(data=df_EDA, count_cols='road_surface')"
      ]
    },
    {
      "cell_type": "code",
      "execution_count": null,
      "metadata": {
        "colab": {
          "base_uri": "https://localhost:8080/"
        },
        "id": "uGvuOfEcNh9S",
        "outputId": "af59d003-f3cb-4ad2-a51e-c99f4994bfb6"
      },
      "outputs": [],
      "source": [
        "# road_surface เทียบกับ level_acc\n",
        "for val in list(df['road_surface'].unique()):\n",
        "  print(f\"{val} level_acc\")\n",
        "  print(df.loc[df['road_surface']==val]['level_acc'].value_counts(),\"\\n\")"
      ]
    },
    {
      "cell_type": "code",
      "execution_count": null,
      "metadata": {
        "colab": {
          "base_uri": "https://localhost:8080/",
          "height": 389
        },
        "id": "v1yAofpONnBB",
        "outputId": "a34b7f64-d864-4964-eac0-c3eff8d3dd8b"
      },
      "outputs": [],
      "source": [
        "#กราฟแท่งของคอลัมน์ time_acc\n",
        "val_count_BarPlot(data=df_EDA, count_cols='time_acc')"
      ]
    },
    {
      "cell_type": "code",
      "execution_count": null,
      "metadata": {
        "colab": {
          "base_uri": "https://localhost:8080/"
        },
        "id": "DP7S2NuXNt6S",
        "outputId": "f312304b-4fed-44a8-ed35-893a35a0d4c6"
      },
      "outputs": [],
      "source": [
        "# time_acc เทียบกับ level_acc\n",
        "for val in list(df['time_acc'].unique()):\n",
        "  print(f\"{val} level_acc\")\n",
        "  print(df.loc[df['time_acc']==val]['level_acc'].value_counts(),\"\\n\")"
      ]
    },
    {
      "cell_type": "markdown",
      "metadata": {
        "id": "pL2UfCPFN7iK"
      },
      "source": [
        "---------------------------------------------"
      ]
    },
    {
      "cell_type": "markdown",
      "metadata": {
        "id": "j7AwrUX0Rbye"
      },
      "source": [
        "### Heatmap (correlation)"
      ]
    },
    {
      "cell_type": "code",
      "execution_count": null,
      "metadata": {
        "id": "nyzL8koNRhmC"
      },
      "outputs": [],
      "source": [
        "# copy df ลงใน Htm\n",
        "df_Htm = df.copy()"
      ]
    },
    {
      "cell_type": "code",
      "execution_count": null,
      "metadata": {
        "colab": {
          "base_uri": "https://localhost:8080/",
          "height": 0
        },
        "id": "IsujGRtmvua9",
        "outputId": "8626a842-8da9-4ead-e635-3ed7ea309905"
      },
      "outputs": [],
      "source": [
        "df_Htm"
      ]
    },
    {
      "cell_type": "code",
      "execution_count": null,
      "metadata": {
        "id": "I3lun-mESI5h"
      },
      "outputs": [],
      "source": [
        "# ลบคอลัมน์ที่ไม่ใช้งาน\n",
        "df_Htm.drop('route_acc', inplace=True, axis=1)"
      ]
    },
    {
      "cell_type": "code",
      "execution_count": null,
      "metadata": {
        "colab": {
          "base_uri": "https://localhost:8080/"
        },
        "id": "V5gK-3HLRn9P",
        "outputId": "66212bac-34e2-44a4-ce04-d42288672fc8"
      },
      "outputs": [],
      "source": [
        "# ตรวจสอบชนิดข้อมูลเบื้องต้น\n",
        "df_Htm.dtypes"
      ]
    },
    {
      "cell_type": "code",
      "execution_count": null,
      "metadata": {
        "id": "LyjxPXRgRn4p"
      },
      "outputs": [],
      "source": [
        "from sklearn.preprocessing import LabelEncoder\n",
        "#create instance of label encoder\n",
        "lab = LabelEncoder()\n",
        "\n",
        "# encode\n",
        "df_Htm['type_acc'] = lab.fit_transform(df_Htm['type_acc'])\n",
        "df_Htm['climate_acc'] = lab.fit_transform(df_Htm['climate_acc'])\n",
        "df_Htm['scene_acc'] = lab.fit_transform(df_Htm['scene_acc'])\n",
        "df_Htm['road_surface'] = lab.fit_transform(df_Htm['road_surface'])\n",
        "df_Htm['level_acc'] = lab.fit_transform(df_Htm['level_acc'])"
      ]
    },
    {
      "cell_type": "code",
      "execution_count": null,
      "metadata": {
        "id": "MNZIdKucRn0q"
      },
      "outputs": [],
      "source": [
        "# แปลงข้อมูลให้เป็น int\n",
        "df_Htm[['day_acc', 'month_acc', 'years_acc', 'time_acc']] = df_Htm[['day_acc', 'month_acc', 'years_acc', 'time_acc']].astype(str).astype(int)"
      ]
    },
    {
      "cell_type": "code",
      "execution_count": null,
      "metadata": {
        "colab": {
          "base_uri": "https://localhost:8080/"
        },
        "id": "d1XNzBBMSnMm",
        "outputId": "c4c4974f-44b1-41f5-857e-cb89452deff1"
      },
      "outputs": [],
      "source": [
        "df_Htm.dtypes"
      ]
    },
    {
      "cell_type": "code",
      "execution_count": null,
      "metadata": {
        "colab": {
          "base_uri": "https://localhost:8080/",
          "height": 0
        },
        "id": "0T5QTUsQSpoi",
        "outputId": "9b1311f3-9d98-44ba-ba2b-ab076da0537e"
      },
      "outputs": [],
      "source": [
        "# ดูค่า corr()\n",
        "df_Htm.corr()"
      ]
    },
    {
      "cell_type": "code",
      "execution_count": null,
      "metadata": {
        "colab": {
          "base_uri": "https://localhost:8080/",
          "height": 0
        },
        "id": "rFF_sKVISv9o",
        "outputId": "7231914c-4e11-4f2f-9e7f-03475cb25d61"
      },
      "outputs": [],
      "source": [
        "# plot heatmap\n",
        "import matplotlib.pyplot as plt\n",
        "import seaborn as sns\n",
        "fig, ax = plt.subplots(figsize=(15,10))\n",
        "sns.heatmap(df_Htm.corr(), annot=True, cmap=\"plasma\")\n",
        "plt.show"
      ]
    },
    {
      "cell_type": "code",
      "execution_count": null,
      "metadata": {
        "id": "eLWn-hoVvTgL"
      },
      "outputs": [],
      "source": [
        "# ลบคอลัมน์ทั้งสองทิ้งเนื่องจากไม่ได้มีความสัมพันธ์มากนัก\n",
        "df = df.drop(columns=[\"hours_acc\"])\n",
        "df = df.drop(columns=[\"minutes_acc\"])"
      ]
    },
    {
      "cell_type": "markdown",
      "metadata": {
        "id": "UuRoUEkRRh7d"
      },
      "source": [
        "--------------------------------"
      ]
    },
    {
      "cell_type": "markdown",
      "metadata": {
        "id": "cV8nYYQ1O3Bl"
      },
      "source": [
        "#Data preprocessing และ เปรียบเทียบ model "
      ]
    },
    {
      "cell_type": "code",
      "execution_count": null,
      "metadata": {
        "id": "RDHaCMU6PXXi"
      },
      "outputs": [],
      "source": [
        "# copy df to df_select\n",
        "df_select = df.copy()\n",
        "\n",
        "# ลบคอลัมน์ที่ไม่ใช้งาน\n",
        "df_select.drop(columns=[\"route_acc\"], inplace=True, axis=1)"
      ]
    },
    {
      "cell_type": "code",
      "execution_count": null,
      "metadata": {
        "colab": {
          "base_uri": "https://localhost:8080/",
          "height": 424
        },
        "id": "MmAwn89ypaxF",
        "outputId": "2c402ba2-01ce-42e2-dc8d-406fd93c8862"
      },
      "outputs": [],
      "source": [
        "df_select"
      ]
    },
    {
      "cell_type": "code",
      "execution_count": null,
      "metadata": {
        "colab": {
          "base_uri": "https://localhost:8080/"
        },
        "id": "aXG7eJhJVQHC",
        "outputId": "99742180-b3ea-48e1-80d3-156dfdecef53"
      },
      "outputs": [],
      "source": [
        "df_select.info()"
      ]
    },
    {
      "cell_type": "code",
      "execution_count": null,
      "metadata": {
        "id": "j9jHMaeDVU6r"
      },
      "outputs": [],
      "source": [
        "# แปลงข้อมูลให้เป็น int\n",
        "df_Htm[['day_acc', 'month_acc', 'years_acc', 'time_acc']] = df_Htm[['day_acc', 'month_acc', 'years_acc', 'time_acc']].astype(str).astype(int)"
      ]
    },
    {
      "cell_type": "code",
      "execution_count": null,
      "metadata": {
        "colab": {
          "base_uri": "https://localhost:8080/",
          "height": 424
        },
        "id": "219WEl2FFUJs",
        "outputId": "e99ab51c-769d-4f74-d8ce-e87dbb335664"
      },
      "outputs": [],
      "source": [
        "from sklearn.preprocessing import LabelEncoder\n",
        "\n",
        "#create instance of label encoder\n",
        "lab = LabelEncoder()\n",
        "\n",
        "# สร้างคอลัมน์สำหรับการ encode\n",
        "df_select['type_acc'] = lab.fit_transform(df_select['type_acc'])\n",
        "df_select['climate_acc'] = lab.fit_transform(df_select['climate_acc'])\n",
        "df_select['scene_acc'] = lab.fit_transform(df_select['scene_acc'])\n",
        "df_select['road_surface'] = lab.fit_transform(df_select['road_surface'])\n",
        "df_select"
      ]
    },
    {
      "cell_type": "code",
      "execution_count": null,
      "metadata": {
        "id": "E2-YZeX8FUEc"
      },
      "outputs": [],
      "source": [
        "from sklearn.linear_model import LogisticRegression\n",
        "from sklearn.ensemble import RandomForestClassifier, GradientBoostingClassifier\n",
        "from sklearn.model_selection import train_test_split"
      ]
    },
    {
      "cell_type": "code",
      "execution_count": null,
      "metadata": {
        "id": "Gkd8aYDsTJqO"
      },
      "outputs": [],
      "source": [
        "# เตรียมชุดข้อมูลสำหรับทำ model\n",
        "x = df_select.drop(columns=[\"level_acc\"])\n",
        "y = df_select['level_acc']"
      ]
    },
    {
      "cell_type": "code",
      "execution_count": null,
      "metadata": {
        "colab": {
          "base_uri": "https://localhost:8080/"
        },
        "id": "T54PTjayTJnu",
        "outputId": "407fd6e8-f5a6-43ac-e704-49ec22bb088e"
      },
      "outputs": [],
      "source": [
        "x_train, x_test, y_train, y_test = train_test_split( x, y, test_size=0.4, random_state=42)\n",
        "x_train.shape, y_train.shape, x_test.shape, y_test.shape"
      ]
    },
    {
      "cell_type": "code",
      "execution_count": null,
      "metadata": {
        "colab": {
          "base_uri": "https://localhost:8080/"
        },
        "id": "Lf4tPNcwTeUY",
        "outputId": "c80e823e-8598-4a2f-e904-2bfd021fe1b0"
      },
      "outputs": [],
      "source": [
        "# Logistic Regression\n",
        "lg = LogisticRegression()\n",
        "lg.fit(x_train,y_train)\n",
        "lg_pred_score = lg.score(x_test,y_test)"
      ]
    },
    {
      "cell_type": "code",
      "execution_count": null,
      "metadata": {
        "id": "jNjJ-ppdTeRw"
      },
      "outputs": [],
      "source": [
        "# Random Forest Classifier\n",
        "rf = RandomForestClassifier()\n",
        "rf.fit(x_train,y_train)\n",
        "rf_pred_score = rf.score(x_test,y_test)"
      ]
    },
    {
      "cell_type": "code",
      "execution_count": null,
      "metadata": {
        "id": "-vpQz4sYTeHi"
      },
      "outputs": [],
      "source": [
        "# Gradient Boosting Classifier\n",
        "gb = GradientBoostingClassifier()\n",
        "gb.fit(x_train,y_train)\n",
        "gb_pred_score = gb.score(x_test,y_test)"
      ]
    },
    {
      "cell_type": "code",
      "execution_count": null,
      "metadata": {
        "colab": {
          "base_uri": "https://localhost:8080/"
        },
        "id": "4LMKusMATjMp",
        "outputId": "6ee0de8d-73c0-4c14-bf53-1eb983b8d38c"
      },
      "outputs": [],
      "source": [
        "gb.feature_importances_"
      ]
    },
    {
      "cell_type": "code",
      "execution_count": null,
      "metadata": {
        "colab": {
          "base_uri": "https://localhost:8080/"
        },
        "id": "zdwtRILOTjKR",
        "outputId": "46e08408-cb0b-4123-ea92-7c3912cb1719"
      },
      "outputs": [],
      "source": [
        "importances = gb.feature_importances_\n",
        "columns = x.columns\n",
        "i = 0\n",
        "\n",
        "while i<len(columns):\n",
        "    print(f\" The importance of feature '{columns[i]}' is {round(importances[i]*100, 2)}%.\")\n",
        "    i += 1"
      ]
    },
    {
      "cell_type": "code",
      "execution_count": null,
      "metadata": {
        "id": "DaNJ8Q45TnA5"
      },
      "outputs": [],
      "source": [
        "from sklearn.svm import SVC\n",
        "svc = SVC()\n",
        "svc.fit(x_train,y_train)\n",
        "svc_pred_score = svc.score(x_test,y_test)"
      ]
    },
    {
      "cell_type": "code",
      "execution_count": null,
      "metadata": {
        "id": "N-yexsQIVv7u"
      },
      "outputs": [],
      "source": [
        "df_select = pd.DataFrame(dict(model=['Logistic Regression', \n",
        "                              'Random Forest',\n",
        "                              'Gradient Boosting',\n",
        "                              'SVM'],accuracy=[lg_pred_score, rf_pred_score,\n",
        "                                               gb_pred_score, svc_pred_score]))"
      ]
    },
    {
      "cell_type": "code",
      "execution_count": null,
      "metadata": {
        "colab": {
          "base_uri": "https://localhost:8080/",
          "height": 175
        },
        "id": "xI3OGvITTm75",
        "outputId": "8057c640-06ad-463c-8360-6bb1a07b2ab6"
      },
      "outputs": [],
      "source": [
        "df_select"
      ]
    },
    {
      "cell_type": "code",
      "execution_count": null,
      "metadata": {
        "colab": {
          "base_uri": "https://localhost:8080/",
          "height": 368
        },
        "id": "4eZD-7GZTtrB",
        "outputId": "ff537100-2266-43bc-e104-3416198b145e"
      },
      "outputs": [],
      "source": [
        "df_select.plot(kind='bar',x='model',y='accuracy',title='Model Accuracy',legend=False,\n",
        "        color=['#1F77B4', '#FF7F0E', '#2CA02C'])\n",
        "plt.ylim(0.5,1);"
      ]
    },
    {
      "cell_type": "markdown",
      "metadata": {
        "id": "D-sZiN9TW6FO"
      },
      "source": [
        "--------------------------"
      ]
    },
    {
      "cell_type": "markdown",
      "metadata": {
        "id": "2ef8mabdW83G"
      },
      "source": [
        "# Gradient Boosting Classifier"
      ]
    },
    {
      "cell_type": "code",
      "execution_count": null,
      "metadata": {
        "id": "JsakuKZIW7EF"
      },
      "outputs": [],
      "source": [
        "from sklearn.ensemble import RandomForestClassifier, GradientBoostingClassifier\n",
        "from sklearn.model_selection import train_test_split"
      ]
    },
    {
      "cell_type": "code",
      "execution_count": null,
      "metadata": {
        "id": "X_NhWPQza_xH"
      },
      "outputs": [],
      "source": [
        "# copy df to df_select\n",
        "df_model = df.copy()\n",
        "\n",
        "# ลบคอลัมน์ที่ไม่ใช้งาน\n",
        "df_model.drop(columns=[\"route_acc\"], inplace=True, axis=1)"
      ]
    },
    {
      "cell_type": "code",
      "execution_count": null,
      "metadata": {
        "colab": {
          "base_uri": "https://localhost:8080/",
          "height": 424
        },
        "id": "GCUnPqj_gwf8",
        "outputId": "a1096fd5-2ee6-45ae-c4cd-0315953db36f"
      },
      "outputs": [],
      "source": [
        "df_model"
      ]
    },
    {
      "cell_type": "code",
      "execution_count": null,
      "metadata": {
        "id": "D_tXzh0Va_re"
      },
      "outputs": [],
      "source": [
        "from sklearn.preprocessing import LabelEncoder\n",
        "\n",
        "#create instance of label encoder\n",
        "lab = LabelEncoder()\n",
        "\n",
        "# สร้างคอลัมน์สำหรับการ encode\n",
        "df_model['type_acc'] = lab.fit_transform(df_model['type_acc'])\n",
        "df_model['climate_acc'] = lab.fit_transform(df_model['climate_acc'])\n",
        "df_model['scene_acc'] = lab.fit_transform(df_model['scene_acc'])\n",
        "df_model['road_surface'] = lab.fit_transform(df_model['road_surface'])"
      ]
    },
    {
      "cell_type": "code",
      "execution_count": null,
      "metadata": {
        "id": "BqhhpY2ihLXZ"
      },
      "outputs": [],
      "source": [
        "# เตรียมชุดข้อมูลสำหรับทำ model\n",
        "X= df_model.drop(columns=[\"level_acc\"])\n",
        "Y = df_model['level_acc']"
      ]
    },
    {
      "cell_type": "code",
      "execution_count": null,
      "metadata": {
        "colab": {
          "base_uri": "https://localhost:8080/"
        },
        "id": "Pxckuntva4WK",
        "outputId": "128a5a68-f117-420a-93d9-64b141b1cef1"
      },
      "outputs": [],
      "source": [
        "X_train, X_test, Y_train, Y_test = train_test_split( X, Y, test_size=0.4, random_state=42)\n",
        "X_train.shape, Y_train.shape, X_test.shape, Y_test.shape"
      ]
    },
    {
      "cell_type": "code",
      "execution_count": null,
      "metadata": {
        "id": "dv1yFeifa4UB"
      },
      "outputs": [],
      "source": [
        "from sklearn.ensemble import GradientBoostingClassifier\n",
        "from sklearn.metrics import classification_report, confusion_matrix, roc_curve, auc"
      ]
    },
    {
      "cell_type": "code",
      "execution_count": null,
      "metadata": {
        "colab": {
          "base_uri": "https://localhost:8080/"
        },
        "id": "25pZmvtWa4Rv",
        "outputId": "fc2544ba-363a-4863-b141-53071548bb07"
      },
      "outputs": [],
      "source": [
        "# train with Gradient Boosting algorithm\n",
        "# compute the accuracy scores on train and test sets when training with different learning rates\n",
        "\n",
        "learning_rates = [0.05, 0.1, 0.25, 0.5, 0.75, 1]\n",
        "for learning_rate in learning_rates:\n",
        "    gb = GradientBoostingClassifier(n_estimators=20, learning_rate = learning_rate, max_features=2, max_depth = 2, random_state = 0)\n",
        "    gb.fit(X_train, Y_train)\n",
        "    print(\"Learning rate: \", learning_rate)\n",
        "    print(\"Accuracy score (training): {0:.3f}\".format(gb.score(X_train, Y_train)))\n",
        "    print(\"Accuracy score (test): {0:.3f}\".format(gb.score(X_test, Y_test)))\n",
        "    print()"
      ]
    },
    {
      "cell_type": "code",
      "execution_count": null,
      "metadata": {
        "colab": {
          "base_uri": "https://localhost:8080/"
        },
        "id": "uF4Dx5Ica4MJ",
        "outputId": "8fc158fb-74f6-442c-c910-b7972e0cf7a8"
      },
      "outputs": [],
      "source": [
        "# Learning rate = 0.25\n",
        "# Output confusion matrix and classification report of Gradient Boosting algorithm on test set\n",
        "\n",
        "gb = GradientBoostingClassifier(n_estimators=20, learning_rate = 0.25, max_features=2, max_depth = 2, random_state = 0)\n",
        "gb.fit(X_train, Y_train)\n",
        "predictions = gb.predict(X_test)\n",
        "\n",
        "print(\"Confusion Matrix:\")\n",
        "print(confusion_matrix(Y_test, predictions))\n",
        "print()\n",
        "print(\"Classification Report\")\n",
        "print(classification_report(Y_test, predictions))"
      ]
    },
    {
      "cell_type": "markdown",
      "metadata": {
        "id": "eCbL3KcvU2vD"
      },
      "source": [
        "-------------------------------"
      ]
    },
    {
      "cell_type": "markdown",
      "metadata": {
        "id": "bgOqjrEjU7Iz"
      },
      "source": [
        "# Accident prediction"
      ]
    },
    {
      "cell_type": "code",
      "execution_count": null,
      "metadata": {
        "id": "jB0TlzBT28sT"
      },
      "outputs": [],
      "source": [
        "def input_data(type_acc,climate_acc,day_acc,month_acc,years_acc,scene_acc,road_surface,time_acc):\n",
        "  df1 = pd.DataFrame({'type_acc': [type_acc],\n",
        "                   'climate_acc': [climate_acc],\n",
        "                   'day_acc': [day_acc],\n",
        "                   'month_acc':[month_acc],\n",
        "                   'years_acc': [years_acc],\n",
        "                   'scene_acc': [scene_acc],\n",
        "                   'road_surface': [road_surface],\n",
        "                   'time_acc': [time_acc]})\n",
        "  return df1"
      ]
    },
    {
      "cell_type": "code",
      "execution_count": null,
      "metadata": {
        "id": "dzzdElhq-VKG"
      },
      "outputs": [],
      "source": [
        "def clean_data2(df1):\n",
        "  clean_df = input\n",
        "\n",
        "  lab = LabelEncoder()\n",
        "  clean_df['type_acc'] = lab.fit_transform(clean_df['type_acc'])\n",
        "  clean_df['climate_acc'] = lab.fit_transform(clean_df['climate_acc'])\n",
        "  clean_df['scene_acc'] = lab.fit_transform(clean_df['scene_acc'])\n",
        "  clean_df['road_surface'] = lab.fit_transform(clean_df['road_surface'])\n",
        "\n",
        "  return clean_df"
      ]
    },
    {
      "cell_type": "code",
      "execution_count": null,
      "metadata": {
        "cellView": "form",
        "colab": {
          "base_uri": "https://localhost:8080/"
        },
        "id": "J92TuvOm5PPX",
        "outputId": "fb6ab5d6-e58d-4575-a026-da37d60ad05c"
      },
      "outputs": [],
      "source": [
        "#@markdown <h3> กรอกข้อมูลการเกิดอุบัติเหตุ </h3>\n",
        "type_acc = \"\\u0E23\\u0E16\\u0E1B\\u0E34\\u0E04\\u0E2D\\u0E31\\u0E1E\\u0E42\\u0E14\\u0E22\\u0E2A\\u0E32\\u0E23\" #@param ['รถยนต์นั่งส่วนบุคคล/รถยนต์นั่งสาธารณะ', 'รถปิคอัพบรรทุก 4 ล้อ','รถจักรยานยนต์','รถบรรทุกมากกว่า 10 ล้อ (รถพ่วง)','รถบรรทุก 6 ล้อ','รถบรรทุกมากกว่า 6 ล้อ ไม่เกิน 10 ล้อ','รถตู้','รถโดยสารขนาดใหญ่','รถปิคอัพโดยสาร','อื่นๆ']{allow-input: true}                            \n",
        "climate_acc =  \"\\u0E41\\u0E08\\u0E48\\u0E21\\u0E43\\u0E2A\"#@param ['แจ่มใส', 'ฝนตก', 'มืดครึ้ม', 'อื่นๆ'] {allow-input: true}\n",
        "day_acc    =  \"24\"#@param['1', '2', '3', '4', '5', '6', '7', '8', '9', '10', '11', '12','13', '14', '15', '16', '17', '18', '19', '20', '21', '22', '23','24', '25', '26', '27', '28', '29', '30', '31'] {allow-input: true}\n",
        "month_acc =  \"7\"#@param ['1', '2', '3', '4', '5', '6', '7', '8', '9', '10', '11', '12'] {allow-input: true}\n",
        "years_acc =  \"2022\"#@param['2019', '2020', '2021', '2022']{allow-input: true}\n",
        "scene_acc\t =  \"\\u0E17\\u0E32\\u0E07\\u0E15\\u0E23\\u0E07\"#@param['อื่นๆ', 'ทางตรง', 'ทางโค้งกว้าง', 'ทางแยกต่างระดับ/Ramps','ทางเชื่อมเข้าพื้นที่สาธารณะ/เชิงพาณิชย์', 'ทางโค้งหักศอก','ทางสามแยก (Y)', 'ทางร่วม', 'ทางสามแยก (T)', 'จุดกลับรถต่างระดับ','ทางเชื่อมเข้าพื้นที่ส่วนบุคคล', 'ทางสี่แยก'] {allow-input: true}\n",
        "road_surface\t = \"\\u0E44\\u0E21\\u0E48\\u0E21\\u0E35\\u0E04\\u0E27\\u0E32\\u0E21\\u0E25\\u0E32\\u0E14\\u0E0A\\u0E31\\u0E19\" #@param ['ไม่มีความลาดชัน', 'ที่ลาดชัน'] {allow-input: true}\n",
        "time_acc = \"4\"#@param['0', '1', '2', '3', '4'] {allow-input: true}\n",
        "# Rental_Yield\t =  3.75#@param {type:\"number\"} {allow-input: true}\n",
        "input = input_data(type_acc, climate_acc, day_acc ,month_acc, years_acc , scene_acc,road_surface, time_acc )\n",
        "clean_input = clean_data2(input)\n",
        "# clean_df2=clean_df.drop('Sale_Price_Sqm', axis=1).copy()\n",
        "# clean_input1= clean_input1.reindex(labels=clean_df2.columns,axis=1)\n",
        "# clean_input2 = clean_input1.fillna(0)\n",
        "# clean_input3 = scaler.transform(clean_input2)\n",
        "predictions = gb.predict(clean_input)\n",
        "# predict = rdfr2.predict(clean_input3)\n",
        "print('ระดับความรุนแรงของอุบัติเหตุ =', predictions)"
      ]
    },
    {
      "cell_type": "markdown",
      "metadata": {
        "id": "aJY-xo_Jkc1M"
      },
      "source": [
        "----------------"
      ]
    },
    {
      "cell_type": "markdown",
      "metadata": {
        "id": "hbT-U8lEqSZF"
      },
      "source": [
        "#เตรียมชุดข้อมูลสำหรับการทำ Association Rule Mining"
      ]
    },
    {
      "cell_type": "code",
      "execution_count": null,
      "metadata": {
        "id": "HUvrW4mvoKlt"
      },
      "outputs": [],
      "source": [
        "df_ARM = df.copy()"
      ]
    },
    {
      "cell_type": "code",
      "execution_count": null,
      "metadata": {
        "id": "e5iV4FZfq7XP"
      },
      "outputs": [],
      "source": [
        "# Filter all rows with  level_acc \n",
        "df_ARM1 = df_ARM.query(\" level_acc == 'DIE' \")\n",
        "df_ARM2 = df_ARM.query(\" level_acc == 'INJ' \")\n",
        "df_ARM3 = df_ARM.query(\" level_acc == 'ACC' \")"
      ]
    },
    {
      "cell_type": "code",
      "execution_count": null,
      "metadata": {
        "colab": {
          "base_uri": "https://localhost:8080/",
          "height": 424
        },
        "id": "6FdjzesbrZHO",
        "outputId": "6deed396-5492-40be-91ba-fa517956f16b"
      },
      "outputs": [],
      "source": [
        "df_ARM1"
      ]
    },
    {
      "cell_type": "code",
      "execution_count": null,
      "metadata": {
        "colab": {
          "base_uri": "https://localhost:8080/"
        },
        "id": "F6EZTcqYzmuf",
        "outputId": "38a703b4-89a6-4421-e538-5accac75b1bd"
      },
      "outputs": [],
      "source": [
        "# ลบคอลัมน์ที่ไม่ใช้งาน\n",
        "df_ARM1.drop('level_acc', inplace=True, axis=1)\n",
        "df_ARM2.drop('level_acc', inplace=True, axis=1)\n",
        "df_ARM3.drop('level_acc', inplace=True, axis=1)"
      ]
    },
    {
      "cell_type": "code",
      "execution_count": null,
      "metadata": {
        "colab": {
          "base_uri": "https://localhost:8080/",
          "height": 17
        },
        "id": "LIy9yCQbssUy",
        "outputId": "1439ca27-817e-4820-db87-abb01a808007"
      },
      "outputs": [],
      "source": [
        "from google.colab import files\n",
        "df_ARM1.to_csv('level_acc_DIE.csv') \n",
        "files.download('level_acc_DIE.csv')"
      ]
    },
    {
      "cell_type": "code",
      "execution_count": null,
      "metadata": {
        "colab": {
          "base_uri": "https://localhost:8080/",
          "height": 17
        },
        "id": "yULZUHCnsVEl",
        "outputId": "71a6f5f4-576c-4586-8eb9-948f473f4ae8"
      },
      "outputs": [],
      "source": [
        "df_ARM2.to_csv('level_acc_INJ.csv') \n",
        "files.download('level_acc_INJ.csv')"
      ]
    },
    {
      "cell_type": "code",
      "execution_count": null,
      "metadata": {
        "colab": {
          "base_uri": "https://localhost:8080/",
          "height": 17
        },
        "id": "Y7g1uEhPsa8G",
        "outputId": "f21b9a2e-809e-48c7-97a8-57d7da911dcc"
      },
      "outputs": [],
      "source": [
        "df_ARM3.to_csv('level_acc_ACC.csv') \n",
        "files.download('level_acc_ACC.csv')"
      ]
    }
  ],
  "metadata": {
    "colab": {
      "collapsed_sections": [
        "mc30UbgkRz4P",
        "j7AwrUX0Rbye",
        "cV8nYYQ1O3Bl",
        "2ef8mabdW83G",
        "hbT-U8lEqSZF"
      ],
      "provenance": []
    },
    "kernelspec": {
      "display_name": "Python 3",
      "name": "python3"
    },
    "language_info": {
      "name": "python"
    }
  },
  "nbformat": 4,
  "nbformat_minor": 0
}
